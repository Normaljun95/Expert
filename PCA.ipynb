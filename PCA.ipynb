{
 "cells": [
  {
   "cell_type": "markdown",
   "metadata": {},
   "source": [
    "'''\n",
    "v1: Scienceon, DBPIA, NTIS AuthorPapers 접근하여 Rawdata에서 필터링된 papers를 추가\n",
    "v2: Answer 변경 및 f_id 수정 중\n",
    "v3: time, tqdm 추가하여 속도 확인\n",
    "v4: Scienceon, DBPIA에 mng로 검색 추가\n",
    "v5: DBPIA 삭제하고 KCI 추가 & Rawdata 먼저 접급으로 변경, answer check 추가\n",
    "'''"
   ]
  },
  {
   "cell_type": "code",
   "execution_count": 4,
   "metadata": {},
   "outputs": [],
   "source": [
    "from sklearn import datasets\n",
    "from sklearn.decomposition import PCA\n",
    "import pandas as pd\n",
    "import numpy as np\n",
    "import sklearn.preprocessing"
   ]
  },
  {
   "cell_type": "code",
   "execution_count": 5,
   "metadata": {},
   "outputs": [],
   "source": [
    "xlsData = pd.read_excel(\"C:/workSpace(expert)/PM10.xlsx\")"
   ]
  },
  {
   "cell_type": "code",
   "execution_count": 8,
   "metadata": {},
   "outputs": [],
   "source": [
    "df = xlsData[['Temp', 'Wind Speed','Humidity', 'PM10']]"
   ]
  },
  {
   "cell_type": "code",
   "execution_count": 9,
   "metadata": {},
   "outputs": [],
   "source": [
    "import sklearn\n",
    "\n",
    "scaler = sklearn.preprocessing.StandardScaler()\n",
    "scaler.fit(df)\n",
    "df_scaled = scaler.transform(df)"
   ]
  },
  {
   "cell_type": "code",
   "execution_count": 11,
   "metadata": {},
   "outputs": [],
   "source": [
    "df_scaled = pd.DataFrame(df_scaled, columns=['Temp', 'Wind Speed','Humidity', 'PM10'])\n",
    "df_scaled['target'] = xlsData['PM10_LEVEL']"
   ]
  },
  {
   "cell_type": "code",
   "execution_count": 12,
   "metadata": {},
   "outputs": [
    {
     "data": {
      "text/html": [
       "<div>\n",
       "<style scoped>\n",
       "    .dataframe tbody tr th:only-of-type {\n",
       "        vertical-align: middle;\n",
       "    }\n",
       "\n",
       "    .dataframe tbody tr th {\n",
       "        vertical-align: top;\n",
       "    }\n",
       "\n",
       "    .dataframe thead th {\n",
       "        text-align: right;\n",
       "    }\n",
       "</style>\n",
       "<table border=\"1\" class=\"dataframe\">\n",
       "  <thead>\n",
       "    <tr style=\"text-align: right;\">\n",
       "      <th></th>\n",
       "      <th>Temp</th>\n",
       "      <th>Wind Speed</th>\n",
       "      <th>Humidity</th>\n",
       "      <th>PM10</th>\n",
       "      <th>target</th>\n",
       "    </tr>\n",
       "  </thead>\n",
       "  <tbody>\n",
       "    <tr>\n",
       "      <th>0</th>\n",
       "      <td>-1.282008</td>\n",
       "      <td>-0.915522</td>\n",
       "      <td>1.023210</td>\n",
       "      <td>1.210280</td>\n",
       "      <td>2</td>\n",
       "    </tr>\n",
       "    <tr>\n",
       "      <th>1</th>\n",
       "      <td>-1.374098</td>\n",
       "      <td>-1.347032</td>\n",
       "      <td>1.366778</td>\n",
       "      <td>1.152348</td>\n",
       "      <td>2</td>\n",
       "    </tr>\n",
       "    <tr>\n",
       "      <th>2</th>\n",
       "      <td>-1.392516</td>\n",
       "      <td>-1.562787</td>\n",
       "      <td>1.514021</td>\n",
       "      <td>0.862692</td>\n",
       "      <td>2</td>\n",
       "    </tr>\n",
       "    <tr>\n",
       "      <th>3</th>\n",
       "      <td>-1.447770</td>\n",
       "      <td>-1.023400</td>\n",
       "      <td>1.612184</td>\n",
       "      <td>1.152348</td>\n",
       "      <td>2</td>\n",
       "    </tr>\n",
       "    <tr>\n",
       "      <th>4</th>\n",
       "      <td>-1.484606</td>\n",
       "      <td>-1.347032</td>\n",
       "      <td>1.710346</td>\n",
       "      <td>0.920623</td>\n",
       "      <td>2</td>\n",
       "    </tr>\n",
       "    <tr>\n",
       "      <th>...</th>\n",
       "      <td>...</td>\n",
       "      <td>...</td>\n",
       "      <td>...</td>\n",
       "      <td>...</td>\n",
       "      <td>...</td>\n",
       "    </tr>\n",
       "    <tr>\n",
       "      <th>16155</th>\n",
       "      <td>-1.116245</td>\n",
       "      <td>-0.591890</td>\n",
       "      <td>-0.890956</td>\n",
       "      <td>-1.106975</td>\n",
       "      <td>0</td>\n",
       "    </tr>\n",
       "    <tr>\n",
       "      <th>16156</th>\n",
       "      <td>-1.162290</td>\n",
       "      <td>-0.376136</td>\n",
       "      <td>-0.596469</td>\n",
       "      <td>-0.643524</td>\n",
       "      <td>1</td>\n",
       "    </tr>\n",
       "    <tr>\n",
       "      <th>16157</th>\n",
       "      <td>-1.199126</td>\n",
       "      <td>-1.131277</td>\n",
       "      <td>-0.301982</td>\n",
       "      <td>-0.469730</td>\n",
       "      <td>1</td>\n",
       "    </tr>\n",
       "    <tr>\n",
       "      <th>16158</th>\n",
       "      <td>-1.199126</td>\n",
       "      <td>-0.807645</td>\n",
       "      <td>-0.203820</td>\n",
       "      <td>-0.238004</td>\n",
       "      <td>1</td>\n",
       "    </tr>\n",
       "    <tr>\n",
       "      <th>16159</th>\n",
       "      <td>-1.235962</td>\n",
       "      <td>-1.023400</td>\n",
       "      <td>-0.154739</td>\n",
       "      <td>-0.006279</td>\n",
       "      <td>1</td>\n",
       "    </tr>\n",
       "  </tbody>\n",
       "</table>\n",
       "<p>16160 rows × 5 columns</p>\n",
       "</div>"
      ],
      "text/plain": [
       "           Temp  Wind Speed  Humidity      PM10  target\n",
       "0     -1.282008   -0.915522  1.023210  1.210280       2\n",
       "1     -1.374098   -1.347032  1.366778  1.152348       2\n",
       "2     -1.392516   -1.562787  1.514021  0.862692       2\n",
       "3     -1.447770   -1.023400  1.612184  1.152348       2\n",
       "4     -1.484606   -1.347032  1.710346  0.920623       2\n",
       "...         ...         ...       ...       ...     ...\n",
       "16155 -1.116245   -0.591890 -0.890956 -1.106975       0\n",
       "16156 -1.162290   -0.376136 -0.596469 -0.643524       1\n",
       "16157 -1.199126   -1.131277 -0.301982 -0.469730       1\n",
       "16158 -1.199126   -0.807645 -0.203820 -0.238004       1\n",
       "16159 -1.235962   -1.023400 -0.154739 -0.006279       1\n",
       "\n",
       "[16160 rows x 5 columns]"
      ]
     },
     "execution_count": 12,
     "metadata": {},
     "output_type": "execute_result"
    }
   ],
   "source": [
    "df_scaled"
   ]
  },
  {
   "cell_type": "code",
   "execution_count": 13,
   "metadata": {},
   "outputs": [
    {
     "data": {
      "text/plain": [
       "PCA(n_components=2)"
      ]
     },
     "execution_count": 13,
     "metadata": {},
     "output_type": "execute_result"
    }
   ],
   "source": [
    "pca = PCA(n_components=2)\n",
    "pca.fit(df_scaled.iloc[:,:-1])"
   ]
  },
  {
   "cell_type": "code",
   "execution_count": 14,
   "metadata": {},
   "outputs": [],
   "source": [
    "df_pca = pca.transform(df_scaled.iloc[:,:-1])\n",
    "df_pca = pd.DataFrame(df_pca, columns=['component 0', 'component 1'])"
   ]
  },
  {
   "cell_type": "code",
   "execution_count": 15,
   "metadata": {},
   "outputs": [
    {
     "data": {
      "text/html": [
       "<div>\n",
       "<style scoped>\n",
       "    .dataframe tbody tr th:only-of-type {\n",
       "        vertical-align: middle;\n",
       "    }\n",
       "\n",
       "    .dataframe tbody tr th {\n",
       "        vertical-align: top;\n",
       "    }\n",
       "\n",
       "    .dataframe thead th {\n",
       "        text-align: right;\n",
       "    }\n",
       "</style>\n",
       "<table border=\"1\" class=\"dataframe\">\n",
       "  <thead>\n",
       "    <tr style=\"text-align: right;\">\n",
       "      <th></th>\n",
       "      <th>component 0</th>\n",
       "      <th>component 1</th>\n",
       "    </tr>\n",
       "  </thead>\n",
       "  <tbody>\n",
       "    <tr>\n",
       "      <th>0</th>\n",
       "      <td>-1.860276</td>\n",
       "      <td>1.071918</td>\n",
       "    </tr>\n",
       "    <tr>\n",
       "      <th>1</th>\n",
       "      <td>-2.396700</td>\n",
       "      <td>0.927699</td>\n",
       "    </tr>\n",
       "    <tr>\n",
       "      <th>2</th>\n",
       "      <td>-2.612173</td>\n",
       "      <td>0.649061</td>\n",
       "    </tr>\n",
       "    <tr>\n",
       "      <th>3</th>\n",
       "      <td>-2.343514</td>\n",
       "      <td>0.837236</td>\n",
       "    </tr>\n",
       "    <tr>\n",
       "      <th>4</th>\n",
       "      <td>-2.618432</td>\n",
       "      <td>0.637960</td>\n",
       "    </tr>\n",
       "    <tr>\n",
       "      <th>...</th>\n",
       "      <td>...</td>\n",
       "      <td>...</td>\n",
       "    </tr>\n",
       "    <tr>\n",
       "      <th>16155</th>\n",
       "      <td>-0.180228</td>\n",
       "      <td>0.013627</td>\n",
       "    </tr>\n",
       "    <tr>\n",
       "      <th>16156</th>\n",
       "      <td>-0.271273</td>\n",
       "      <td>0.259674</td>\n",
       "    </tr>\n",
       "    <tr>\n",
       "      <th>16157</th>\n",
       "      <td>-1.009782</td>\n",
       "      <td>0.309132</td>\n",
       "    </tr>\n",
       "    <tr>\n",
       "      <th>16158</th>\n",
       "      <td>-0.865902</td>\n",
       "      <td>0.436362</td>\n",
       "    </tr>\n",
       "    <tr>\n",
       "      <th>16159</th>\n",
       "      <td>-1.085151</td>\n",
       "      <td>0.620948</td>\n",
       "    </tr>\n",
       "  </tbody>\n",
       "</table>\n",
       "<p>16160 rows × 2 columns</p>\n",
       "</div>"
      ],
      "text/plain": [
       "       component 0  component 1\n",
       "0        -1.860276     1.071918\n",
       "1        -2.396700     0.927699\n",
       "2        -2.612173     0.649061\n",
       "3        -2.343514     0.837236\n",
       "4        -2.618432     0.637960\n",
       "...            ...          ...\n",
       "16155    -0.180228     0.013627\n",
       "16156    -0.271273     0.259674\n",
       "16157    -1.009782     0.309132\n",
       "16158    -0.865902     0.436362\n",
       "16159    -1.085151     0.620948\n",
       "\n",
       "[16160 rows x 2 columns]"
      ]
     },
     "execution_count": 15,
     "metadata": {},
     "output_type": "execute_result"
    }
   ],
   "source": [
    "df_pca"
   ]
  },
  {
   "cell_type": "code",
   "execution_count": 16,
   "metadata": {},
   "outputs": [
    {
     "name": "stdout",
     "output_type": "stream",
     "text": [
      "[0.35874908 0.26557951]\n"
     ]
    }
   ],
   "source": [
    "print(pca.explained_variance_ratio_)"
   ]
  },
  {
   "cell_type": "code",
   "execution_count": 18,
   "metadata": {},
   "outputs": [
    {
     "data": {
      "image/png": "[encoded data removed]",
      "text/plain": [
       "<Figure size 432x288 with 1 Axes>"
      ]
     },
     "metadata": {
      "needs_background": "light"
     },
     "output_type": "display_data"
    }
   ],
   "source": [
    "import matplotlib.pyplot as plt\n",
    "\n",
    "# class target 정보 불러오기 \n",
    "df_pca['target'] = df_scaled['target']\n",
    "\n",
    "# target 별 분리\n",
    "df_pca_0 = df_pca[df_pca['target'] == 0]\n",
    "df_pca_1 = df_pca[df_pca['target'] == 1]\n",
    "df_pca_2 = df_pca[df_pca['target'] == 2]\n",
    "df_pca_3 = df_pca[df_pca['target'] == 3]\n",
    "df_pca_4 = df_pca[df_pca['target'] == 4]\n",
    "\n",
    "# target 별 시각화\n",
    "plt.scatter(df_pca_0['component 0'], df_pca_0['component 1'], color = 'orange', alpha = 0.7, label = 'Good')\n",
    "plt.scatter(df_pca_1['component 0'], df_pca_1['component 1'], color = 'red', alpha = 0.7, label = 'Normal')\n",
    "plt.scatter(df_pca_2['component 0'], df_pca_2['component 1'], color = 'green', alpha = 0.7, label = 'Bad')\n",
    "plt.scatter(df_pca_3['component 0'], df_pca_3['component 1'], color = 'blue', alpha = 0.7, label = 'Very Bad')\n",
    "plt.scatter(df_pca_4['component 0'], df_pca_4['component 1'], color = 'purple', alpha = 0.7, label = 'Error')\n",
    "\n",
    "plt.xlabel('component 0')\n",
    "plt.ylabel('component 1')\n",
    "plt.legend()\n",
    "plt.show()"
   ]
  },
  {
   "cell_type": "code",
   "execution_count": null,
   "metadata": {},
   "outputs": [],
   "source": []
  }
 ],
 "metadata": {
  "interpreter": {
   "hash": "6f70033d83ff233bd01c1d8bf8dde22df229b71b62ad38afc5817a065d146ee5"
  },
  "kernelspec": {
   "display_name": "Python 3.9.7 ('expert397')",
   "language": "python",
   "name": "python3"
  },
  "language_info": {
   "codemirror_mode": {
    "name": "ipython",
    "version": 3
   },
   "file_extension": ".py",
   "mimetype": "text/x-python",
   "name": "python",
   "nbconvert_exporter": "python",
   "pygments_lexer": "ipython3",
   "version": "3.9.7"
  },
  "orig_nbformat": 4
 },
 "nbformat": 4,
 "nbformat_minor": 2
}
