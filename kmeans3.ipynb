{
 "cells": [
  {
   "cell_type": "markdown",
   "metadata": {},
   "source": [
    "'''\n",
    "v1: Scienceon, DBPIA, NTIS AuthorPapers 접근하여 Rawdata에서 필터링된 papers를 추가\n",
    "v2: Answer 변경 및 f_id 수정 중\n",
    "v3: time, tqdm 추가하여 속도 확인\n",
    "v4: Scienceon, DBPIA에 mng로 검색 추가\n",
    "v5: DBPIA 삭제하고 KCI 추가 & Rawdata 먼저 접급으로 변경, answer check 추가\n",
    "'''"
   ]
  },
  {
   "cell_type": "code",
   "execution_count": 1,
   "metadata": {},
   "outputs": [],
   "source": [
    "import pandas as pd\n",
    "import matplotlib.pyplot as plt\n",
    "import seaborn as sns\n",
    "import matplotlib.font_manager as fm\n",
    "import numpy as np\n",
    "import random as rd"
   ]
  },
  {
   "cell_type": "code",
   "execution_count": 2,
   "metadata": {},
   "outputs": [],
   "source": [
    "xlsData = pd.read_excel(\"C:/workSpace(expert)/PM10.xlsx\")"
   ]
  },
  {
   "cell_type": "code",
   "execution_count": 3,
   "metadata": {},
   "outputs": [
    {
     "data": {
      "text/html": [
       "<div>\n",
       "<style scoped>\n",
       "    .dataframe tbody tr th:only-of-type {\n",
       "        vertical-align: middle;\n",
       "    }\n",
       "\n",
       "    .dataframe tbody tr th {\n",
       "        vertical-align: top;\n",
       "    }\n",
       "\n",
       "    .dataframe thead th {\n",
       "        text-align: right;\n",
       "    }\n",
       "</style>\n",
       "<table border=\"1\" class=\"dataframe\">\n",
       "  <thead>\n",
       "    <tr style=\"text-align: right;\">\n",
       "      <th></th>\n",
       "      <th>PM10_LEVEL2</th>\n",
       "      <th>Temp</th>\n",
       "      <th>Humidity</th>\n",
       "    </tr>\n",
       "  </thead>\n",
       "  <tbody>\n",
       "    <tr>\n",
       "      <th>0</th>\n",
       "      <td>BAD</td>\n",
       "      <td>-0.8</td>\n",
       "      <td>78.0</td>\n",
       "    </tr>\n",
       "    <tr>\n",
       "      <th>1</th>\n",
       "      <td>BAD</td>\n",
       "      <td>-1.8</td>\n",
       "      <td>85.0</td>\n",
       "    </tr>\n",
       "    <tr>\n",
       "      <th>2</th>\n",
       "      <td>BAD</td>\n",
       "      <td>-2.0</td>\n",
       "      <td>88.0</td>\n",
       "    </tr>\n",
       "    <tr>\n",
       "      <th>3</th>\n",
       "      <td>BAD</td>\n",
       "      <td>-2.6</td>\n",
       "      <td>90.0</td>\n",
       "    </tr>\n",
       "    <tr>\n",
       "      <th>4</th>\n",
       "      <td>BAD</td>\n",
       "      <td>-3.0</td>\n",
       "      <td>92.0</td>\n",
       "    </tr>\n",
       "    <tr>\n",
       "      <th>...</th>\n",
       "      <td>...</td>\n",
       "      <td>...</td>\n",
       "      <td>...</td>\n",
       "    </tr>\n",
       "    <tr>\n",
       "      <th>16155</th>\n",
       "      <td>GOOD</td>\n",
       "      <td>1.0</td>\n",
       "      <td>39.0</td>\n",
       "    </tr>\n",
       "    <tr>\n",
       "      <th>16156</th>\n",
       "      <td>NORMAL</td>\n",
       "      <td>0.5</td>\n",
       "      <td>45.0</td>\n",
       "    </tr>\n",
       "    <tr>\n",
       "      <th>16157</th>\n",
       "      <td>NORMAL</td>\n",
       "      <td>0.1</td>\n",
       "      <td>51.0</td>\n",
       "    </tr>\n",
       "    <tr>\n",
       "      <th>16158</th>\n",
       "      <td>NORMAL</td>\n",
       "      <td>0.1</td>\n",
       "      <td>53.0</td>\n",
       "    </tr>\n",
       "    <tr>\n",
       "      <th>16159</th>\n",
       "      <td>NORMAL</td>\n",
       "      <td>-0.3</td>\n",
       "      <td>54.0</td>\n",
       "    </tr>\n",
       "  </tbody>\n",
       "</table>\n",
       "<p>16160 rows × 3 columns</p>\n",
       "</div>"
      ],
      "text/plain": [
       "      PM10_LEVEL2  Temp  Humidity\n",
       "0             BAD  -0.8      78.0\n",
       "1             BAD  -1.8      85.0\n",
       "2             BAD  -2.0      88.0\n",
       "3             BAD  -2.6      90.0\n",
       "4             BAD  -3.0      92.0\n",
       "...           ...   ...       ...\n",
       "16155        GOOD   1.0      39.0\n",
       "16156      NORMAL   0.5      45.0\n",
       "16157      NORMAL   0.1      51.0\n",
       "16158      NORMAL   0.1      53.0\n",
       "16159      NORMAL  -0.3      54.0\n",
       "\n",
       "[16160 rows x 3 columns]"
      ]
     },
     "execution_count": 3,
     "metadata": {},
     "output_type": "execute_result"
    }
   ],
   "source": [
    "df = xlsData[['PM10_LEVEL2', 'Temp', 'Humidity']]\n",
    "df"
   ]
  },
  {
   "cell_type": "code",
   "execution_count": 4,
   "metadata": {},
   "outputs": [],
   "source": [
    "X = df.iloc[:, [1, 2]].values\n",
    "m = X.shape[0]\n",
    "n = X.shape[1]"
   ]
  },
  {
   "cell_type": "code",
   "execution_count": 5,
   "metadata": {},
   "outputs": [
    {
     "data": {
      "image/png": "[encoded data removed]",
      "text/plain": [
       "<Figure size 432x288 with 1 Axes>"
      ]
     },
     "metadata": {
      "needs_background": "light"
     },
     "output_type": "display_data"
    }
   ],
   "source": [
    "plt.scatter(X[:,0],X[:,1],c='blue',label='PM10')\n",
    "plt.xlabel('Temp')\n",
    "plt.ylabel('Humidity')\n",
    "plt.legend()\n",
    "plt.title('PM10')\n",
    "plt.show()"
   ]
  },
  {
   "cell_type": "code",
   "execution_count": 6,
   "metadata": {},
   "outputs": [],
   "source": [
    "K=4\n",
    "n_iter=100"
   ]
  },
  {
   "cell_type": "code",
   "execution_count": 7,
   "metadata": {},
   "outputs": [
    {
     "data": {
      "text/plain": [
       "array([], shape=(2, 0), dtype=float64)"
      ]
     },
     "execution_count": 7,
     "metadata": {},
     "output_type": "execute_result"
    }
   ],
   "source": [
    "Centroids=np.array([]).reshape(n,0)\n",
    "Centroids"
   ]
  },
  {
   "cell_type": "code",
   "execution_count": 8,
   "metadata": {},
   "outputs": [
    {
     "data": {
      "text/plain": [
       "array([[11.5,  0. , 16.1, 14. ],\n",
       "       [76. , 44. , 96. , 27. ]])"
      ]
     },
     "execution_count": 8,
     "metadata": {},
     "output_type": "execute_result"
    }
   ],
   "source": [
    "for i in range(K):\n",
    "    rand=rd.randint(0,m-1)\n",
    "    Centroids=np.c_[Centroids,X[rand]]\n",
    "Centroids"
   ]
  },
  {
   "cell_type": "code",
   "execution_count": 9,
   "metadata": {},
   "outputs": [],
   "source": [
    "Output={}"
   ]
  },
  {
   "cell_type": "code",
   "execution_count": 10,
   "metadata": {},
   "outputs": [
    {
     "data": {
      "text/plain": [
       "array([], shape=(16160, 0), dtype=float64)"
      ]
     },
     "execution_count": 10,
     "metadata": {},
     "output_type": "execute_result"
    }
   ],
   "source": [
    "EuclidianDistance=np.array([]).reshape(m,0)\n",
    "EuclidianDistance"
   ]
  },
  {
   "cell_type": "code",
   "execution_count": 11,
   "metadata": {},
   "outputs": [
    {
     "data": {
      "text/plain": [
       "array([11.5, 76. ])"
      ]
     },
     "execution_count": 11,
     "metadata": {},
     "output_type": "execute_result"
    }
   ],
   "source": [
    "Centroids[:,0]"
   ]
  },
  {
   "cell_type": "code",
   "execution_count": 12,
   "metadata": {},
   "outputs": [
    {
     "data": {
      "text/plain": [
       "array([155.29, 257.89, 326.25, ..., 754.96, 658.96, 623.24])"
      ]
     },
     "execution_count": 12,
     "metadata": {},
     "output_type": "execute_result"
    }
   ],
   "source": [
    "tempDist = np.sum((X-Centroids[:,0])**2,axis=1)\n",
    "tempDist"
   ]
  },
  {
   "cell_type": "code",
   "execution_count": 13,
   "metadata": {},
   "outputs": [
    {
     "data": {
      "text/plain": [
       "array([[155.29],\n",
       "       [257.89],\n",
       "       [326.25],\n",
       "       ...,\n",
       "       [754.96],\n",
       "       [658.96],\n",
       "       [623.24]])"
      ]
     },
     "execution_count": 13,
     "metadata": {},
     "output_type": "execute_result"
    }
   ],
   "source": [
    "np.c_[EuclidianDistance,tempDist]"
   ]
  },
  {
   "cell_type": "code",
   "execution_count": 14,
   "metadata": {},
   "outputs": [
    {
     "data": {
      "text/plain": [
       "array([[ 155.29, 1156.64,  609.61, 2820.04],\n",
       "       [ 257.89, 1684.24,  441.41, 3613.64],\n",
       "       [ 326.25, 1940.  ,  391.61, 3977.  ],\n",
       "       ...,\n",
       "       [ 754.96,   49.01, 2281.  ,  769.21],\n",
       "       [ 658.96,   81.01, 2105.  ,  869.21],\n",
       "       [ 623.24,  100.09, 2032.96,  933.49]])"
      ]
     },
     "execution_count": 14,
     "metadata": {},
     "output_type": "execute_result"
    }
   ],
   "source": [
    "for k in range(K):\n",
    "    tempDist=np.sum((X-Centroids[:,k])**2,axis=1)\n",
    "    EuclidianDistance=np.c_[EuclidianDistance,tempDist]\n",
    "EuclidianDistance"
   ]
  },
  {
   "cell_type": "code",
   "execution_count": 15,
   "metadata": {},
   "outputs": [
    {
     "data": {
      "text/plain": [
       "array([0, 0, 0, ..., 1, 1, 1], dtype=int64)"
      ]
     },
     "execution_count": 15,
     "metadata": {},
     "output_type": "execute_result"
    }
   ],
   "source": [
    "np.argmin(EuclidianDistance,axis=1)"
   ]
  },
  {
   "cell_type": "code",
   "execution_count": 16,
   "metadata": {},
   "outputs": [
    {
     "data": {
      "text/plain": [
       "array([1, 1, 1, ..., 2, 2, 2], dtype=int64)"
      ]
     },
     "execution_count": 16,
     "metadata": {},
     "output_type": "execute_result"
    }
   ],
   "source": [
    "C=np.argmin(EuclidianDistance,axis=1)+1\n",
    "C"
   ]
  },
  {
   "cell_type": "code",
   "execution_count": 17,
   "metadata": {},
   "outputs": [],
   "source": [
    "Y={}"
   ]
  },
  {
   "cell_type": "code",
   "execution_count": 18,
   "metadata": {},
   "outputs": [
    {
     "data": {
      "text/plain": [
       "{1: array([], shape=(2, 0), dtype=float64),\n",
       " 2: array([], shape=(2, 0), dtype=float64),\n",
       " 3: array([], shape=(2, 0), dtype=float64),\n",
       " 4: array([], shape=(2, 0), dtype=float64)}"
      ]
     },
     "execution_count": 18,
     "metadata": {},
     "output_type": "execute_result"
    }
   ],
   "source": [
    "for k in range(K):\n",
    "    Y[k+1]=np.array([]).reshape(2,0)\n",
    "Y"
   ]
  },
  {
   "cell_type": "code",
   "execution_count": 19,
   "metadata": {},
   "outputs": [
    {
     "data": {
      "text/plain": [
       "array([[-0.8],\n",
       "       [78. ]])"
      ]
     },
     "execution_count": 19,
     "metadata": {},
     "output_type": "execute_result"
    }
   ],
   "source": [
    "Y[C[0]]=np.c_[Y[C[0]],X[0]]\n",
    "Y[C[0]]"
   ]
  },
  {
   "cell_type": "code",
   "execution_count": 20,
   "metadata": {},
   "outputs": [
    {
     "data": {
      "text/plain": [
       "{1: array([[-0.8, -0.8, -1.8, ..., -0.1,  0.6,  1.5],\n",
       "        [78. , 78. , 85. , ..., 81. , 76. , 67. ]]),\n",
       " 2: array([[ 4.1,  5. ,  6. , ...,  0.1,  0.1, -0.3],\n",
       "        [56. , 48. , 45. , ..., 51. , 53. , 54. ]]),\n",
       " 3: array([[-2.6, -3. , -3.6, ...,  1.6,  1.2,  1.2],\n",
       "        [90. , 92. , 92. , ..., 93. , 93. , 95. ]]),\n",
       " 4: array([[ 6.6,  6.1,  6.5, ...,  3.6,  3.4,  2.6],\n",
       "        [33. , 33. , 32. , ..., 30. , 26. , 27. ]])}"
      ]
     },
     "execution_count": 20,
     "metadata": {},
     "output_type": "execute_result"
    }
   ],
   "source": [
    "for i in range(m):\n",
    "    Y[C[i]]=np.c_[Y[C[i]],X[i]]\n",
    "Y"
   ]
  },
  {
   "cell_type": "code",
   "execution_count": 21,
   "metadata": {},
   "outputs": [
    {
     "data": {
      "text/plain": [
       "array([[-0.8, -0.8, -1.8, ..., -0.1,  0.6,  1.5],\n",
       "       [78. , 78. , 85. , ..., 81. , 76. , 67. ]])"
      ]
     },
     "execution_count": 21,
     "metadata": {},
     "output_type": "execute_result"
    }
   ],
   "source": [
    "Y[1]"
   ]
  },
  {
   "cell_type": "code",
   "execution_count": 22,
   "metadata": {},
   "outputs": [
    {
     "data": {
      "text/plain": [
       "array([[-0.8, 78. ],\n",
       "       [-0.8, 78. ],\n",
       "       [-1.8, 85. ],\n",
       "       ...,\n",
       "       [-0.1, 81. ],\n",
       "       [ 0.6, 76. ],\n",
       "       [ 1.5, 67. ]])"
      ]
     },
     "execution_count": 22,
     "metadata": {},
     "output_type": "execute_result"
    }
   ],
   "source": [
    "Y[1].T"
   ]
  },
  {
   "cell_type": "code",
   "execution_count": 23,
   "metadata": {},
   "outputs": [
    {
     "data": {
      "text/plain": [
       "{1: array([[-0.8, 78. ],\n",
       "        [-0.8, 78. ],\n",
       "        [-1.8, 85. ],\n",
       "        ...,\n",
       "        [-0.1, 81. ],\n",
       "        [ 0.6, 76. ],\n",
       "        [ 1.5, 67. ]]),\n",
       " 2: array([[ 4.1, 56. ],\n",
       "        [ 5. , 48. ],\n",
       "        [ 6. , 45. ],\n",
       "        ...,\n",
       "        [ 0.1, 51. ],\n",
       "        [ 0.1, 53. ],\n",
       "        [-0.3, 54. ]]),\n",
       " 3: array([[-2.6, 90. ],\n",
       "        [-3. , 92. ],\n",
       "        [-3.6, 92. ],\n",
       "        ...,\n",
       "        [ 1.6, 93. ],\n",
       "        [ 1.2, 93. ],\n",
       "        [ 1.2, 95. ]]),\n",
       " 4: array([[ 6.6, 33. ],\n",
       "        [ 6.1, 33. ],\n",
       "        [ 6.5, 32. ],\n",
       "        ...,\n",
       "        [ 3.6, 30. ],\n",
       "        [ 3.4, 26. ],\n",
       "        [ 2.6, 27. ]])}"
      ]
     },
     "execution_count": 23,
     "metadata": {},
     "output_type": "execute_result"
    }
   ],
   "source": [
    "for k in range(K): # 0, 1, 2\n",
    "    Y[k+1]=Y[k+1].T\n",
    "Y"
   ]
  },
  {
   "cell_type": "code",
   "execution_count": 24,
   "metadata": {},
   "outputs": [
    {
     "data": {
      "text/plain": [
       "array([[14.04797287,  4.80091241, 16.38999319, 19.61803981],\n",
       "       [70.6459694 , 48.50707117, 91.38121171, 32.48853616]])"
      ]
     },
     "execution_count": 24,
     "metadata": {},
     "output_type": "execute_result"
    }
   ],
   "source": [
    "for k in range(K): # 0, 1, 2\n",
    "     Centroids[:,k]=np.mean(Y[k+1],axis=0)\n",
    "Centroids"
   ]
  },
  {
   "cell_type": "code",
   "execution_count": 25,
   "metadata": {},
   "outputs": [],
   "source": [
    "for i in range(n_iter):\n",
    "    EuclidianDistance=np.array([]).reshape(m,0)\n",
    "    for k in range(K):\n",
    "        tempDist=np.sum((X-Centroids[:,k])**2,axis=1)\n",
    "        EuclidianDistance=np.c_[EuclidianDistance,tempDist]\n",
    "    C=np.argmin(EuclidianDistance,axis=1)+1\n",
    "    Y={}\n",
    "    for k in range(K):\n",
    "        Y[k+1]=np.array([]).reshape(2,0)\n",
    "    for i in range(m):\n",
    "        Y[C[i]]=np.c_[Y[C[i]],X[i]]\n",
    "    for k in range(K):\n",
    "        Y[k+1]=Y[k+1].T\n",
    "    for k in range(K):\n",
    "        Centroids[:,k]=np.mean(Y[k+1],axis=0)\n",
    "    Output=Y"
   ]
  },
  {
   "cell_type": "code",
   "execution_count": 26,
   "metadata": {},
   "outputs": [
    {
     "ename": "IndexError",
     "evalue": "list index out of range",
     "output_type": "error",
     "traceback": [
      "\u001b[1;31m---------------------------------------------------------------------------\u001b[0m",
      "\u001b[1;31mIndexError\u001b[0m                                Traceback (most recent call last)",
      "\u001b[1;32mc:\\workSpace(expert)\\kmeans3.ipynb Cell 27'\u001b[0m in \u001b[0;36m<cell line: 3>\u001b[1;34m()\u001b[0m\n\u001b[0;32m      <a href='vscode-notebook-cell:/c%3A/workSpace%28expert%29/kmeans3.ipynb#ch0000045?line=1'>2</a>\u001b[0m labels\u001b[39m=\u001b[39m[\u001b[39m'\u001b[39m\u001b[39mcluster1\u001b[39m\u001b[39m'\u001b[39m,\u001b[39m'\u001b[39m\u001b[39mcluster2\u001b[39m\u001b[39m'\u001b[39m,\u001b[39m'\u001b[39m\u001b[39mcluster3\u001b[39m\u001b[39m'\u001b[39m]\n\u001b[0;32m      <a href='vscode-notebook-cell:/c%3A/workSpace%28expert%29/kmeans3.ipynb#ch0000045?line=2'>3</a>\u001b[0m \u001b[39mfor\u001b[39;00m k \u001b[39min\u001b[39;00m \u001b[39mrange\u001b[39m(K):\n\u001b[1;32m----> <a href='vscode-notebook-cell:/c%3A/workSpace%28expert%29/kmeans3.ipynb#ch0000045?line=3'>4</a>\u001b[0m     plt\u001b[39m.\u001b[39mscatter(Output[k\u001b[39m+\u001b[39m\u001b[39m1\u001b[39m][:,\u001b[39m0\u001b[39m],Output[k\u001b[39m+\u001b[39m\u001b[39m1\u001b[39m][:,\u001b[39m1\u001b[39m],c\u001b[39m=\u001b[39mcolor[k],label\u001b[39m=\u001b[39mlabels[k])\n\u001b[0;32m      <a href='vscode-notebook-cell:/c%3A/workSpace%28expert%29/kmeans3.ipynb#ch0000045?line=4'>5</a>\u001b[0m plt\u001b[39m.\u001b[39mscatter(Centroids[\u001b[39m0\u001b[39m,:],Centroids[\u001b[39m1\u001b[39m,:],s\u001b[39m=\u001b[39m\u001b[39m300\u001b[39m,c\u001b[39m=\u001b[39m\u001b[39m'\u001b[39m\u001b[39myellow\u001b[39m\u001b[39m'\u001b[39m,label\u001b[39m=\u001b[39m\u001b[39m'\u001b[39m\u001b[39mCentroids\u001b[39m\u001b[39m'\u001b[39m)\n\u001b[0;32m      <a href='vscode-notebook-cell:/c%3A/workSpace%28expert%29/kmeans3.ipynb#ch0000045?line=5'>6</a>\u001b[0m plt\u001b[39m.\u001b[39mxlabel(\u001b[39m'\u001b[39m\u001b[39mTemp\u001b[39m\u001b[39m'\u001b[39m)\n",
      "\u001b[1;31mIndexError\u001b[0m: list index out of range"
     ]
    },
    {
     "data": {
      "image/png": "[encoded data removed]",
      "text/plain": [
       "<Figure size 432x288 with 1 Axes>"
      ]
     },
     "metadata": {
      "needs_background": "light"
     },
     "output_type": "display_data"
    }
   ],
   "source": [
    "color=['red','blue','green', 'yellow']\n",
    "labels=['cluster1','cluster2','cluster3', 'cluster4']\n",
    "for k in range(K):\n",
    "    plt.scatter(Output[k+1][:,0],Output[k+1][:,1],c=color[k],label=labels[k])\n",
    "plt.scatter(Centroids[0,:],Centroids[1,:],s=300,c='yellow',label='Centroids')\n",
    "plt.xlabel('Temp')\n",
    "plt.ylabel('Humidity')\n",
    "plt.legend()\n",
    "plt.show()"
   ]
  },
  {
   "cell_type": "code",
   "execution_count": null,
   "metadata": {},
   "outputs": [],
   "source": []
  }
 ],
 "metadata": {
  "interpreter": {
   "hash": "6f70033d83ff233bd01c1d8bf8dde22df229b71b62ad38afc5817a065d146ee5"
  },
  "kernelspec": {
   "display_name": "Python 3.9.7 ('expert397')",
   "language": "python",
   "name": "python3"
  },
  "language_info": {
   "codemirror_mode": {
    "name": "ipython",
    "version": 3
   },
   "file_extension": ".py",
   "mimetype": "text/x-python",
   "name": "python",
   "nbconvert_exporter": "python",
   "pygments_lexer": "ipython3",
   "version": "3.9.7"
  },
  "orig_nbformat": 4
 },
 "nbformat": 4,
 "nbformat_minor": 2
}
